{
 "cells": [
  {
   "cell_type": "markdown",
   "metadata": {},
   "source": [
    "## Libraries"
   ]
  },
  {
   "cell_type": "code",
   "execution_count": 2,
   "metadata": {},
   "outputs": [],
   "source": [
    "# import librariries\n",
    "from bs4 import BeautifulSoup\n",
    "from lxml import html\n",
    "from selenium import webdriver\n",
    "from selenium.webdriver.common.by import By\n",
    "from tqdm import tqdm\n",
    "import json\n",
    "import re"
   ]
  },
  {
   "cell_type": "markdown",
   "metadata": {},
   "source": [
    "## Methods"
   ]
  },
  {
   "cell_type": "code",
   "execution_count": 2,
   "metadata": {},
   "outputs": [],
   "source": [
    "def scrapingURL(url):\n",
    "    driver = webdriver.Chrome()\n",
    "    driver.get(url)\n",
    "\n",
    "    content = driver.page_source\n",
    "    soup = BeautifulSoup(content, 'html.parser')\n",
    "\n",
    "    possible_recipe_urls = []\n",
    "    for link in soup.find_all('a'):\n",
    "        current_link = link.get('href')\n",
    "        if current_link is None:\n",
    "            continue\n",
    "        if '/recipes/' in current_link:\n",
    "            possible_recipe_urls.append(current_link)\n",
    "    possible_recipe_urls = list(set(possible_recipe_urls))"
   ]
  },
  {
   "cell_type": "code",
   "execution_count": 27,
   "metadata": {},
   "outputs": [],
   "source": [
    "def write2Json(recipes_ingre_dict, filename):\n",
    "    # write data to json file\n",
    "    json_object = json.dumps(recipes_ingre_dict, indent=4)\n",
    "    \n",
    "    # Writing to sample.json\n",
    "    with open(filename, \"w\") as outfile:\n",
    "        outfile.write(json_object)"
   ]
  },
  {
   "cell_type": "markdown",
   "metadata": {},
   "source": [
    "## url: https://www.tasteofhome.com/collection/diabetic-cookie-recipes/\n"
   ]
  },
  {
   "cell_type": "code",
   "execution_count": 22,
   "metadata": {},
   "outputs": [],
   "source": [
    "url = 'https://www.tasteofhome.com/collection/diabetic-cookie-recipes/'\n",
    "driver = webdriver.Chrome()\n",
    "driver.get(url)\n",
    "\n",
    "content = driver.page_source\n",
    "soup = BeautifulSoup(content, 'html.parser')"
   ]
  },
  {
   "cell_type": "code",
   "execution_count": 23,
   "metadata": {},
   "outputs": [
    {
     "name": "stdout",
     "output_type": "stream",
     "text": [
      "Number of available links: 32\n",
      "Stored the following links: ['https://www.tasteofhome.com/recipes/vanilla-meringue-cookies/', 'https://www.tasteofhome.com/recipes/swirled-mint-cookies/', '/recipes/cooking-style/easy-recipes/', 'https://www.tasteofhome.com/recipes/dishes-beverages/', '/recipes/', 'https://www.tasteofhome.com/recipes/ingredients/', 'https://www.tasteofhome.com/recipes/banana-chocolate-chip-cookies/', 'https://www.tasteofhome.com/recipes/carrot-cookie-bites/', 'https://www.tasteofhome.com/recipes/techniques/', 'https://www.tasteofhome.com/recipes/cooking-style/', '/recipes/meal-types/dinner/', 'https://www.tasteofhome.com/recipes/chocolate-crinkle-cookies/', 'https://www.tasteofhome.com/recipes/chipotle-crackle-cookies/', 'https://www.tasteofhome.com/recipes/maple-walnut-biscotti/', 'https://www.tasteofhome.com/recipes/add', 'https://www.tasteofhome.com/recipes/cuisines/', 'https://www.tasteofhome.com/recipes/chewy-coconut-macaroons/', 'https://www.tasteofhome.com/recipes/coconut-kisses/', 'https://www.tasteofhome.com/recipes/meal-types/', 'https://www.tasteofhome.com/recipes/chocolate-peanut-butter-cookies/', 'https://www.tasteofhome.com/recipes/pumpkin-seed-cranberry-biscotti/', 'https://www.tasteofhome.com/recipes/cinnamon-roll-macarons/', 'https://www.tasteofhome.com/recipes/peppermint-kisses/', 'https://www.tasteofhome.com/recipes/cooking-style/comfort-food/', 'https://www.tasteofhome.com/recipes/triple-ginger-gingersnaps/', 'https://www.tasteofhome.com/recipes/molasses-crackle-cookies/', 'https://www.tasteofhome.com/recipes/', 'https://www.tasteofhome.com/recipes/first-place-coconut-macaroons/', 'https://www.tasteofhome.com/recipes/mocha-meringue-sandwich-cookies/', 'https://www.tasteofhome.com/recipes/chocolate-dipped-strawberry-meringue-roses/', 'https://www.tasteofhome.com/recipes/lime-coconut-biscotti/', 'https://www.tasteofhome.com/recipes/lemon-meringue-pie-cookies/']\n"
     ]
    }
   ],
   "source": [
    "# all recipe links appeared on the webpage\n",
    "possible_recipe_urls = []\n",
    "for link in soup.find_all('a'):\n",
    "    current_link = link.get('href')\n",
    "    if current_link is None:\n",
    "        continue\n",
    "    if '/recipes/' in current_link:\n",
    "        possible_recipe_urls.append(current_link)\n",
    "possible_recipe_urls = list(set(possible_recipe_urls))\n",
    "print(f'Number of available links: {len(possible_recipe_urls)}')\n",
    "print(f'Stored the following links: {possible_recipe_urls}')"
   ]
  },
  {
   "cell_type": "code",
   "execution_count": 26,
   "metadata": {},
   "outputs": [],
   "source": [
    "# discard links that are not recipes\n",
    "recipe_links = []\n",
    "for link in possible_recipe_urls:\n",
    "    if 'http' not in link:\n",
    "        continue\n",
    "\n",
    "    driver = webdriver.Chrome()\n",
    "    driver.get(link)\n",
    "\n",
    "    content = driver.page_source\n",
    "    soup = BeautifulSoup(content, 'html.parser')\n",
    "\n",
    "    if 'ingredients' in soup.text.lower():\n",
    "        recipe_links.append(link)"
   ]
  },
  {
   "cell_type": "code",
   "execution_count": 29,
   "metadata": {},
   "outputs": [
    {
     "data": {
      "text/plain": [
       "['https://www.tasteofhome.com/recipes/vanilla-meringue-cookies/',\n",
       " 'https://www.tasteofhome.com/recipes/swirled-mint-cookies/',\n",
       " 'https://www.tasteofhome.com/recipes/dishes-beverages/',\n",
       " 'https://www.tasteofhome.com/recipes/ingredients/',\n",
       " 'https://www.tasteofhome.com/recipes/banana-chocolate-chip-cookies/',\n",
       " 'https://www.tasteofhome.com/recipes/carrot-cookie-bites/',\n",
       " 'https://www.tasteofhome.com/recipes/techniques/',\n",
       " 'https://www.tasteofhome.com/recipes/cooking-style/',\n",
       " 'https://www.tasteofhome.com/recipes/chocolate-crinkle-cookies/',\n",
       " 'https://www.tasteofhome.com/recipes/chipotle-crackle-cookies/',\n",
       " 'https://www.tasteofhome.com/recipes/maple-walnut-biscotti/',\n",
       " 'https://www.tasteofhome.com/recipes/chewy-coconut-macaroons/',\n",
       " 'https://www.tasteofhome.com/recipes/coconut-kisses/',\n",
       " 'https://www.tasteofhome.com/recipes/meal-types/',\n",
       " 'https://www.tasteofhome.com/recipes/chocolate-peanut-butter-cookies/',\n",
       " 'https://www.tasteofhome.com/recipes/pumpkin-seed-cranberry-biscotti/',\n",
       " 'https://www.tasteofhome.com/recipes/cinnamon-roll-macarons/',\n",
       " 'https://www.tasteofhome.com/recipes/peppermint-kisses/',\n",
       " 'https://www.tasteofhome.com/recipes/cooking-style/comfort-food/',\n",
       " 'https://www.tasteofhome.com/recipes/triple-ginger-gingersnaps/',\n",
       " 'https://www.tasteofhome.com/recipes/molasses-crackle-cookies/',\n",
       " 'https://www.tasteofhome.com/recipes/',\n",
       " 'https://www.tasteofhome.com/recipes/first-place-coconut-macaroons/',\n",
       " 'https://www.tasteofhome.com/recipes/mocha-meringue-sandwich-cookies/',\n",
       " 'https://www.tasteofhome.com/recipes/chocolate-dipped-strawberry-meringue-roses/',\n",
       " 'https://www.tasteofhome.com/recipes/lime-coconut-biscotti/',\n",
       " 'https://www.tasteofhome.com/recipes/lemon-meringue-pie-cookies/']"
      ]
     },
     "execution_count": 29,
     "metadata": {},
     "output_type": "execute_result"
    }
   ],
   "source": [
    "recipe_links"
   ]
  },
  {
   "cell_type": "code",
   "execution_count": 66,
   "metadata": {},
   "outputs": [],
   "source": [
    "# manually discard links that are not recipes\n",
    "recipe_links.remove('https://www.tasteofhome.com/recipes/dishes-beverages/')\n",
    "recipe_links.remove('https://www.tasteofhome.com/recipes/ingredients/')\n",
    "recipe_links.remove('https://www.tasteofhome.com/recipes/techniques/')\n",
    "recipe_links.remove('https://www.tasteofhome.com/recipes/cooking-style/')\n",
    "recipe_links.remove('https://www.tasteofhome.com/recipes/meal-types/')\n",
    "recipe_links.remove('https://www.tasteofhome.com/recipes/')\n",
    "recipe_links.remove('https://www.tasteofhome.com/recipes/cooking-style/comfort-food/')"
   ]
  },
  {
   "cell_type": "code",
   "execution_count": 67,
   "metadata": {},
   "outputs": [
    {
     "data": {
      "text/plain": [
       "['https://www.tasteofhome.com/recipes/vanilla-meringue-cookies/',\n",
       " 'https://www.tasteofhome.com/recipes/swirled-mint-cookies/',\n",
       " 'https://www.tasteofhome.com/recipes/banana-chocolate-chip-cookies/',\n",
       " 'https://www.tasteofhome.com/recipes/carrot-cookie-bites/',\n",
       " 'https://www.tasteofhome.com/recipes/chocolate-crinkle-cookies/',\n",
       " 'https://www.tasteofhome.com/recipes/chipotle-crackle-cookies/',\n",
       " 'https://www.tasteofhome.com/recipes/maple-walnut-biscotti/',\n",
       " 'https://www.tasteofhome.com/recipes/chewy-coconut-macaroons/',\n",
       " 'https://www.tasteofhome.com/recipes/coconut-kisses/',\n",
       " 'https://www.tasteofhome.com/recipes/chocolate-peanut-butter-cookies/',\n",
       " 'https://www.tasteofhome.com/recipes/pumpkin-seed-cranberry-biscotti/',\n",
       " 'https://www.tasteofhome.com/recipes/cinnamon-roll-macarons/',\n",
       " 'https://www.tasteofhome.com/recipes/peppermint-kisses/',\n",
       " 'https://www.tasteofhome.com/recipes/triple-ginger-gingersnaps/',\n",
       " 'https://www.tasteofhome.com/recipes/molasses-crackle-cookies/',\n",
       " 'https://www.tasteofhome.com/recipes/first-place-coconut-macaroons/',\n",
       " 'https://www.tasteofhome.com/recipes/mocha-meringue-sandwich-cookies/',\n",
       " 'https://www.tasteofhome.com/recipes/chocolate-dipped-strawberry-meringue-roses/',\n",
       " 'https://www.tasteofhome.com/recipes/lime-coconut-biscotti/',\n",
       " 'https://www.tasteofhome.com/recipes/lemon-meringue-pie-cookies/']"
      ]
     },
     "execution_count": 67,
     "metadata": {},
     "output_type": "execute_result"
    }
   ],
   "source": [
    "recipe_links"
   ]
  },
  {
   "cell_type": "code",
   "execution_count": null,
   "metadata": {},
   "outputs": [],
   "source": [
    "recipes_ingre_dict = dict()\n",
    "for link in tqdm(recipe_links):\n",
    "    print(link)\n",
    "    driver = webdriver.Chrome()\n",
    "    driver.get(link)\n",
    "\n",
    "    content = driver.page_source\n",
    "    dom = html.fromstring(content)\n",
    "    ingre_list = dom.xpath('//div[@class=\"recipe-ingredients\"]//li//text()')\n",
    "    \n",
    "    recipes_ingre_dict[link.split('/')[-2]] = ingre_list"
   ]
  },
  {
   "cell_type": "code",
   "execution_count": 64,
   "metadata": {},
   "outputs": [],
   "source": [
    "# write data to json file\n",
    "json_object = json.dumps(recipes_ingre_dict, indent=4)\n",
    " \n",
    "# Writing to sample.json\n",
    "with open(\"tasteofhome.json\", \"w\") as outfile:\n",
    "    outfile.write(json_object)"
   ]
  },
  {
   "cell_type": "markdown",
   "metadata": {},
   "source": [
    "## url: https://www.allrecipes.com/gallery/sugar-free-cookies/"
   ]
  },
  {
   "cell_type": "code",
   "execution_count": 8,
   "metadata": {},
   "outputs": [],
   "source": [
    "url = 'https://www.allrecipes.com/gallery/sugar-free-cookies/'\n",
    "driver = webdriver.Chrome()\n",
    "driver.get(url)\n",
    "\n",
    "content = driver.page_source\n",
    "soup = BeautifulSoup(content, 'html.parser')"
   ]
  },
  {
   "cell_type": "code",
   "execution_count": 27,
   "metadata": {},
   "outputs": [
    {
     "name": "stdout",
     "output_type": "stream",
     "text": [
      "Number of available links: 13\n",
      "Stored the following links: ['https://www.allrecipes.com/recipe/11594/chocolate-chip-cookies-for-special-diets/', 'https://www.allrecipes.com/recipe/261181/4-ingredient-keto-peanut-butter-cookies/', 'https://www.allrecipes.com/recipe/158403/sugar-free-peanut-butter-cookies/', 'https://www.allrecipes.com/recipe/10905/no-bake-bumpy-peanut-butter-nuggets/', 'https://www.allrecipes.com/recipe/233511/paleo-coconut-dark-chocolate-chip-cookies/', 'https://www.allrecipes.com/recipe/275260/sugar-free-date-cookies/', 'https://www.allrecipes.com/recipe/50441/pumpkin-protein-cookies/', 'https://www.allrecipes.com/recipe/261183/chewy-keto-chocolate-cookies/', 'https://www.allrecipes.com/recipe/11349/no-sugar-added-cookies/', 'https://www.allrecipes.com/recipe/218490/low-carb-flavored-meringue-cookies/', 'https://www.allrecipes.com/recipe/261182/low-carb-almond-cinnamon-butter-cookies/', 'https://www.allrecipes.com/recipe/19202/no-sugar-raisin-cookies/', 'https://www.allrecipes.com/recipe/15231/special-oatmeal-cookies/']\n"
     ]
    }
   ],
   "source": [
    "possible_recipe_urls = []\n",
    "for i in soup.find_all('a'):\n",
    "    if 'View Recipe' in str(i):\n",
    "        possible_recipe_urls.append(i.get('href'))\n",
    "possible_recipe_urls = list(set(possible_recipe_urls))\n",
    "print(f'Number of available links: {len(possible_recipe_urls)}')\n",
    "print(f'Stored the following links: {possible_recipe_urls}')"
   ]
  },
  {
   "cell_type": "code",
   "execution_count": 31,
   "metadata": {},
   "outputs": [],
   "source": [
    "link = 'https://www.allrecipes.com/recipe/11594/chocolate-chip-cookies-for-special-diets/'\n",
    "driver = webdriver.Chrome()\n",
    "driver.get(link)\n",
    "\n",
    "content = driver.page_source\n",
    "dom = html.fromstring(content)"
   ]
  },
  {
   "cell_type": "code",
   "execution_count": 56,
   "metadata": {},
   "outputs": [
    {
     "name": "stderr",
     "output_type": "stream",
     "text": [
      "  0%|          | 0/13 [00:00<?, ?it/s]"
     ]
    },
    {
     "name": "stdout",
     "output_type": "stream",
     "text": [
      "https://www.allrecipes.com/recipe/11594/chocolate-chip-cookies-for-special-diets/\n"
     ]
    },
    {
     "name": "stderr",
     "output_type": "stream",
     "text": [
      "  8%|▊         | 1/13 [00:04<00:51,  4.25s/it]"
     ]
    },
    {
     "name": "stdout",
     "output_type": "stream",
     "text": [
      "https://www.allrecipes.com/recipe/261181/4-ingredient-keto-peanut-butter-cookies/\n"
     ]
    },
    {
     "name": "stderr",
     "output_type": "stream",
     "text": [
      " 15%|█▌        | 2/13 [00:08<00:46,  4.27s/it]"
     ]
    },
    {
     "name": "stdout",
     "output_type": "stream",
     "text": [
      "https://www.allrecipes.com/recipe/158403/sugar-free-peanut-butter-cookies/\n"
     ]
    },
    {
     "name": "stderr",
     "output_type": "stream",
     "text": [
      " 23%|██▎       | 3/13 [00:12<00:42,  4.24s/it]"
     ]
    },
    {
     "name": "stdout",
     "output_type": "stream",
     "text": [
      "https://www.allrecipes.com/recipe/10905/no-bake-bumpy-peanut-butter-nuggets/\n"
     ]
    },
    {
     "name": "stderr",
     "output_type": "stream",
     "text": [
      " 31%|███       | 4/13 [00:16<00:37,  4.19s/it]"
     ]
    },
    {
     "name": "stdout",
     "output_type": "stream",
     "text": [
      "https://www.allrecipes.com/recipe/233511/paleo-coconut-dark-chocolate-chip-cookies/\n"
     ]
    },
    {
     "name": "stderr",
     "output_type": "stream",
     "text": [
      " 38%|███▊      | 5/13 [00:20<00:33,  4.14s/it]"
     ]
    },
    {
     "name": "stdout",
     "output_type": "stream",
     "text": [
      "https://www.allrecipes.com/recipe/275260/sugar-free-date-cookies/\n"
     ]
    },
    {
     "name": "stderr",
     "output_type": "stream",
     "text": [
      " 46%|████▌     | 6/13 [00:25<00:29,  4.16s/it]"
     ]
    },
    {
     "name": "stdout",
     "output_type": "stream",
     "text": [
      "https://www.allrecipes.com/recipe/50441/pumpkin-protein-cookies/\n"
     ]
    },
    {
     "name": "stderr",
     "output_type": "stream",
     "text": [
      " 54%|█████▍    | 7/13 [00:29<00:24,  4.12s/it]"
     ]
    },
    {
     "name": "stdout",
     "output_type": "stream",
     "text": [
      "https://www.allrecipes.com/recipe/261183/chewy-keto-chocolate-cookies/\n"
     ]
    },
    {
     "name": "stderr",
     "output_type": "stream",
     "text": [
      " 62%|██████▏   | 8/13 [00:33<00:20,  4.09s/it]"
     ]
    },
    {
     "name": "stdout",
     "output_type": "stream",
     "text": [
      "https://www.allrecipes.com/recipe/11349/no-sugar-added-cookies/\n"
     ]
    },
    {
     "name": "stderr",
     "output_type": "stream",
     "text": [
      " 69%|██████▉   | 9/13 [00:37<00:16,  4.10s/it]"
     ]
    },
    {
     "name": "stdout",
     "output_type": "stream",
     "text": [
      "https://www.allrecipes.com/recipe/218490/low-carb-flavored-meringue-cookies/\n"
     ]
    },
    {
     "name": "stderr",
     "output_type": "stream",
     "text": [
      " 77%|███████▋  | 10/13 [00:41<00:12,  4.07s/it]"
     ]
    },
    {
     "name": "stdout",
     "output_type": "stream",
     "text": [
      "https://www.allrecipes.com/recipe/261182/low-carb-almond-cinnamon-butter-cookies/\n"
     ]
    },
    {
     "name": "stderr",
     "output_type": "stream",
     "text": [
      " 85%|████████▍ | 11/13 [00:45<00:08,  4.10s/it]"
     ]
    },
    {
     "name": "stdout",
     "output_type": "stream",
     "text": [
      "https://www.allrecipes.com/recipe/19202/no-sugar-raisin-cookies/\n"
     ]
    },
    {
     "name": "stderr",
     "output_type": "stream",
     "text": [
      " 92%|█████████▏| 12/13 [00:49<00:04,  4.06s/it]"
     ]
    },
    {
     "name": "stdout",
     "output_type": "stream",
     "text": [
      "https://www.allrecipes.com/recipe/15231/special-oatmeal-cookies/\n"
     ]
    },
    {
     "name": "stderr",
     "output_type": "stream",
     "text": [
      "100%|██████████| 13/13 [00:53<00:00,  4.11s/it]\n"
     ]
    }
   ],
   "source": [
    "recipes_ingre_dict = dict()\n",
    "for link in tqdm(possible_recipe_urls):\n",
    "    print(link)\n",
    "    driver = webdriver.Chrome()\n",
    "    driver.get(link)\n",
    "\n",
    "    content = driver.page_source\n",
    "    dom = html.fromstring(content)\n",
    "    token_ingre_list = dom.xpath('//div[@class=\"comp mntl-lrs-ingredients mntl-block\"]//li//text()')\n",
    "\n",
    "    rebuild_ingre_list = []\n",
    "    current_ingredient = ''\n",
    "    for ingre in token_ingre_list:\n",
    "        if ingre != '\\n':\n",
    "            current_ingredient += str(ingre)\n",
    "        else:\n",
    "            if ',' in current_ingredient:\n",
    "                current_ingredient = current_ingredient.replace(',', '')\n",
    "            current_ingredient = current_ingredient.replace('  ', ' ')\n",
    "            rebuild_ingre_list.append(current_ingredient)\n",
    "            current_ingredient = ''\n",
    "\n",
    "    for ingre in rebuild_ingre_list:\n",
    "        if ingre == '':\n",
    "            rebuild_ingre_list.remove(ingre)\n",
    "    \n",
    "    recipes_ingre_dict[link.split('/')[-2]] = rebuild_ingre_list"
   ]
  },
  {
   "cell_type": "code",
   "execution_count": 64,
   "metadata": {},
   "outputs": [
    {
     "data": {
      "text/plain": [
       "{'chocolate-chip-cookies-for-special-diets': ['½ cup butter softened',\n",
       "  '¾ cup granulated artificial sweetener',\n",
       "  '2 tablespoons water',\n",
       "  '½ teaspoon vanilla extract',\n",
       "  '1 egg beaten',\n",
       "  '1 ⅛ cups all-purpose flour',\n",
       "  '½ teaspoon baking soda',\n",
       "  '½ teaspoon salt',\n",
       "  '½ cup semisweet chocolate chips',\n",
       "  '½ cup chopped pecans'],\n",
       " '4-ingredient-keto-peanut-butter-cookies': ['1 cup peanut butter',\n",
       "  '½ cup low-calorie natural sweetener (such as Swerve®)',\n",
       "  '1 egg',\n",
       "  '1 teaspoon sugar-free vanilla extract'],\n",
       " 'sugar-free-peanut-butter-cookies': ['2 cups smooth natural peanut butter',\n",
       "  '2 cups granular no-calorie sucralose sweetener (e.g. Splenda ®)',\n",
       "  '2 large eggs'],\n",
       " 'no-bake-bumpy-peanut-butter-nuggets': ['½ cup natural peanut butter',\n",
       "  '¼ cup nonfat dry milk powder',\n",
       "  '¼ cup unsweetened flaked coconut',\n",
       "  '⅓ cup rolled oats',\n",
       "  '½ teaspoon ground cinnamon',\n",
       "  '¼ cup wheat germ',\n",
       "  '¼ cup unsweetened apple juice concentrate thawed'],\n",
       " 'paleo-coconut-dark-chocolate-chip-cookies': ['2 cups almond flour',\n",
       "  '⅔ cup shredded unsweetened coconut',\n",
       "  '⅓ cup coconut flour',\n",
       "  '1 egg',\n",
       "  '½ cup almond butter softened',\n",
       "  '¼ cup honey',\n",
       "  '1 ½ teaspoons coconut oil melted',\n",
       "  '1 teaspoon vanilla extract',\n",
       "  '¾ cup dark chocolate chips'],\n",
       " 'sugar-free-date-cookies': ['1 cup chopped dates',\n",
       "  '¼ cup chopped pecans',\n",
       "  '¼ cup water',\n",
       "  '½ very ripe banana mashed',\n",
       "  '1 large egg lightly beaten',\n",
       "  '2 tablespoons butter melted',\n",
       "  '½ teaspoon vanilla extract',\n",
       "  '1 cup all-purpose flour',\n",
       "  '1 teaspoon baking powder',\n",
       "  '1 teaspoon cinnamon',\n",
       "  '¼ teaspoon salt'],\n",
       " 'pumpkin-protein-cookies': ['¾ cup SPLENDA® Granular',\n",
       "  '1 cup rolled oats',\n",
       "  '1 cup whole wheat flour',\n",
       "  '½ cup soy flour',\n",
       "  '1 ¾ teaspoons baking soda',\n",
       "  '½ teaspoon baking powder',\n",
       "  '½ teaspoon salt',\n",
       "  '2 teaspoons ground cinnamon',\n",
       "  '1 teaspoon ground nutmeg',\n",
       "  '½ cup pumpkin puree',\n",
       "  '1 tablespoon canola oil',\n",
       "  '2 teaspoons water',\n",
       "  '2 egg whites',\n",
       "  '1 teaspoon molasses',\n",
       "  '1 tablespoon flax seeds (Optional)'],\n",
       " 'chewy-keto-chocolate-cookies': ['1 ½ cups almond butter',\n",
       "  '½ cup low-calorie natural sweetener (such as Swerve®)',\n",
       "  '⅓ cup unsweetened cocoa powder sifted',\n",
       "  '2 large eggs',\n",
       "  '1 teaspoon sugar-free vanilla extract',\n",
       "  '1 pinch salt'],\n",
       " 'no-sugar-added-cookies': ['¾ cup butter',\n",
       "  '2 ripe bananas',\n",
       "  '1 egg',\n",
       "  '1 teaspoon vanilla extract',\n",
       "  '1 ½ cups all-purpose flour',\n",
       "  '1 teaspoon baking soda',\n",
       "  '½ teaspoon salt',\n",
       "  '½ teaspoon ground nutmeg',\n",
       "  '¾ teaspoon ground cinnamon',\n",
       "  '1 cup rolled oats',\n",
       "  '½ cup chopped walnuts'],\n",
       " 'low-carb-flavored-meringue-cookies': ['1 ½ teaspoons sugar-free strawberry Jell-O® mix',\n",
       "  '1 cup granulated no-calorie sugar substitute (such as Splenda®)',\n",
       "  '6 egg whites at room temperature',\n",
       "  '¼ teaspoon cream of tartar',\n",
       "  '¼ teaspoon salt'],\n",
       " 'low-carb-almond-cinnamon-butter-cookies': ['2 cups blanched almond flour',\n",
       "  '½ cup unsalted butter softened',\n",
       "  '½ cup low-calorie natural sweetener (such as Swerve®)',\n",
       "  '1 large egg',\n",
       "  '1 teaspoon sugar-free vanilla extract',\n",
       "  '1 teaspoon ground cinnamon'],\n",
       " 'no-sugar-raisin-cookies': ['1 ½ cups raisins',\n",
       "  '½ cup peeled cored and chopped apple',\n",
       "  '1 cup water',\n",
       "  '½ cup butter',\n",
       "  '1 cup all-purpose flour',\n",
       "  '1 teaspoon baking soda',\n",
       "  '1 teaspoon vanilla extract',\n",
       "  '1 cup quick cooking oats',\n",
       "  '2 eggs beaten',\n",
       "  '¾ cup chopped walnuts'],\n",
       " 'special-oatmeal-cookies': ['1 ½ cups rolled oats',\n",
       "  '⅔ cup butter melted',\n",
       "  '4 egg whites',\n",
       "  '1 cup granulated artificial sweetener',\n",
       "  '1 ½ cups all-purpose flour',\n",
       "  '½ teaspoon salt',\n",
       "  '2 teaspoons baking powder',\n",
       "  '½ cup milk',\n",
       "  '1 teaspoon vanilla extract',\n",
       "  '½ cup raisins',\n",
       "  '½ cup chopped walnuts']}"
      ]
     },
     "execution_count": 64,
     "metadata": {},
     "output_type": "execute_result"
    }
   ],
   "source": [
    "recipes_ingre_dict"
   ]
  },
  {
   "cell_type": "code",
   "execution_count": 58,
   "metadata": {},
   "outputs": [],
   "source": [
    "write2Json(\n",
    "    recipes_ingre_dict=recipes_ingre_dict,\n",
    "    filename='allrecipes.json'\n",
    ")"
   ]
  },
  {
   "cell_type": "markdown",
   "metadata": {},
   "source": [
    "## url: https://www.everydaydiabeticrecipes.com/Cookie-Recipes/Diabetic-Cookie-Recipes-Top-Best-Cookie-Recipes-Youll-Love"
   ]
  },
  {
   "cell_type": "code",
   "execution_count": 6,
   "metadata": {},
   "outputs": [],
   "source": [
    "url = 'https://www.everydaydiabeticrecipes.com/Cookie-Recipes/Diabetic-Cookie-Recipes-Top-Best-Cookie-Recipes-Youll-Love/'\n",
    "base = 'https://www.everydaydiabeticrecipes.com'\n",
    "driver = webdriver.Chrome()\n",
    "driver.get(url)\n",
    "\n",
    "content = driver.page_source\n",
    "soup = BeautifulSoup(content, 'html.parser')"
   ]
  },
  {
   "cell_type": "code",
   "execution_count": 7,
   "metadata": {},
   "outputs": [
    {
     "name": "stdout",
     "output_type": "stream",
     "text": [
      "Recipe lins found:  18\n",
      "/Cookie-Recipes/Spiced-Pumpkin-Chip-Cookies\n",
      "/Cookie-Recipes/Pumpkin-Pie-Cookies\n",
      "/Cookie-Recipes/Grandmas-Oatmeal-Raisin-Cookies\n",
      "/Cookie-Recipes/Chocolate-Chip-Carrot-Cookies-EDR\n",
      "/Cookie-Recipes/Ginger-Spice-Chocolate-Cookies\n",
      "/Cookie-Recipes/Lickety-Split-Lemon-Oaties-6652\n",
      "/Cookie-Recipes/Diabetic-Cookie-Recipes-Top-Best-Cookie-Recipes-Youll-Love\n",
      "/Cookie-Recipes/Fruity-Fingerprint-Cookies\n",
      "/Cookie-Recipes/Oatmeal-Chocolate-Chip-Cookies-204976\n",
      "/Cookie-Recipes/Chocolate-Chip-Cloud-Cookies\n",
      "/Cookie-Recipes/Snickerdoodles\n",
      "/Cookie-Recipes/Fudgy-Chocolate-Cookies\n",
      "/Cookie-Recipes/Banana-Bread-Cookies\n",
      "/Cookie-Recipes/Pecan-Balls\n",
      "/Cookie-Recipes/Brookies\n",
      "/Cookie-Recipes/Black-and-White-Cookies-EDR\n",
      "/Cookie-Recipes/3-Ingredient-Peanut-Butter-Cookies\n",
      "/Cookie-Recipes/Cinnamon-Roll-Cookies-204986\n"
     ]
    }
   ],
   "source": [
    "myset = set()\n",
    "for token in soup.find_all('a'):\n",
    "    if '/Cookie-Recipes/' in str(token):\n",
    "        myset.add(token.get('href'))\n",
    "print('Recipe lins found: ', len(myset))\n",
    "myset = list(myset)\n",
    "for i in myset:\n",
    "    print(i)"
   ]
  },
  {
   "cell_type": "code",
   "execution_count": 18,
   "metadata": {},
   "outputs": [
    {
     "name": "stderr",
     "output_type": "stream",
     "text": [
      "  0%|          | 0/18 [00:00<?, ?it/s]"
     ]
    },
    {
     "name": "stdout",
     "output_type": "stream",
     "text": [
      "https://www.everydaydiabeticrecipes.com/Cookie-Recipes/Spiced-Pumpkin-Chip-Cookies\n"
     ]
    },
    {
     "name": "stderr",
     "output_type": "stream",
     "text": [
      "  6%|▌         | 1/18 [00:06<01:53,  6.67s/it]"
     ]
    },
    {
     "name": "stdout",
     "output_type": "stream",
     "text": [
      "https://www.everydaydiabeticrecipes.com/Cookie-Recipes/Pumpkin-Pie-Cookies\n"
     ]
    },
    {
     "name": "stderr",
     "output_type": "stream",
     "text": [
      " 11%|█         | 2/18 [00:13<01:44,  6.53s/it]"
     ]
    },
    {
     "name": "stdout",
     "output_type": "stream",
     "text": [
      "https://www.everydaydiabeticrecipes.com/Cookie-Recipes/Grandmas-Oatmeal-Raisin-Cookies\n"
     ]
    },
    {
     "name": "stderr",
     "output_type": "stream",
     "text": [
      " 17%|█▋        | 3/18 [00:24<02:10,  8.71s/it]"
     ]
    },
    {
     "name": "stdout",
     "output_type": "stream",
     "text": [
      "https://www.everydaydiabeticrecipes.com/Cookie-Recipes/Chocolate-Chip-Carrot-Cookies-EDR\n"
     ]
    },
    {
     "name": "stderr",
     "output_type": "stream",
     "text": [
      " 22%|██▏       | 4/18 [00:32<02:00,  8.60s/it]"
     ]
    },
    {
     "name": "stdout",
     "output_type": "stream",
     "text": [
      "https://www.everydaydiabeticrecipes.com/Cookie-Recipes/Ginger-Spice-Chocolate-Cookies\n"
     ]
    },
    {
     "name": "stderr",
     "output_type": "stream",
     "text": [
      " 28%|██▊       | 5/18 [00:39<01:44,  8.03s/it]"
     ]
    },
    {
     "name": "stdout",
     "output_type": "stream",
     "text": [
      "https://www.everydaydiabeticrecipes.com/Cookie-Recipes/Lickety-Split-Lemon-Oaties-6652\n"
     ]
    },
    {
     "name": "stderr",
     "output_type": "stream",
     "text": [
      " 33%|███▎      | 6/18 [00:46<01:32,  7.70s/it]"
     ]
    },
    {
     "name": "stdout",
     "output_type": "stream",
     "text": [
      "https://www.everydaydiabeticrecipes.com/Cookie-Recipes/Diabetic-Cookie-Recipes-Top-Best-Cookie-Recipes-Youll-Love\n"
     ]
    },
    {
     "name": "stderr",
     "output_type": "stream",
     "text": [
      " 39%|███▉      | 7/18 [00:53<01:21,  7.40s/it]"
     ]
    },
    {
     "name": "stdout",
     "output_type": "stream",
     "text": [
      "https://www.everydaydiabeticrecipes.com/Cookie-Recipes/Fruity-Fingerprint-Cookies\n"
     ]
    },
    {
     "name": "stderr",
     "output_type": "stream",
     "text": [
      " 44%|████▍     | 8/18 [01:00<01:11,  7.16s/it]"
     ]
    },
    {
     "name": "stdout",
     "output_type": "stream",
     "text": [
      "https://www.everydaydiabeticrecipes.com/Cookie-Recipes/Oatmeal-Chocolate-Chip-Cookies-204976\n"
     ]
    },
    {
     "name": "stderr",
     "output_type": "stream",
     "text": [
      " 50%|█████     | 9/18 [01:11<01:14,  8.29s/it]"
     ]
    },
    {
     "name": "stdout",
     "output_type": "stream",
     "text": [
      "https://www.everydaydiabeticrecipes.com/Cookie-Recipes/Chocolate-Chip-Cloud-Cookies\n"
     ]
    },
    {
     "name": "stderr",
     "output_type": "stream",
     "text": [
      " 56%|█████▌    | 10/18 [01:22<01:14,  9.26s/it]"
     ]
    },
    {
     "name": "stdout",
     "output_type": "stream",
     "text": [
      "https://www.everydaydiabeticrecipes.com/Cookie-Recipes/Snickerdoodles\n"
     ]
    },
    {
     "name": "stderr",
     "output_type": "stream",
     "text": [
      " 61%|██████    | 11/18 [01:29<00:59,  8.48s/it]"
     ]
    },
    {
     "name": "stdout",
     "output_type": "stream",
     "text": [
      "https://www.everydaydiabeticrecipes.com/Cookie-Recipes/Fudgy-Chocolate-Cookies\n"
     ]
    },
    {
     "name": "stderr",
     "output_type": "stream",
     "text": [
      " 67%|██████▋   | 12/18 [01:36<00:48,  8.01s/it]"
     ]
    },
    {
     "name": "stdout",
     "output_type": "stream",
     "text": [
      "https://www.everydaydiabeticrecipes.com/Cookie-Recipes/Banana-Bread-Cookies\n"
     ]
    },
    {
     "name": "stderr",
     "output_type": "stream",
     "text": [
      " 72%|███████▏  | 13/18 [01:44<00:40,  8.18s/it]"
     ]
    },
    {
     "name": "stdout",
     "output_type": "stream",
     "text": [
      "https://www.everydaydiabeticrecipes.com/Cookie-Recipes/Pecan-Balls\n"
     ]
    },
    {
     "name": "stderr",
     "output_type": "stream",
     "text": [
      " 78%|███████▊  | 14/18 [01:53<00:33,  8.26s/it]"
     ]
    },
    {
     "name": "stdout",
     "output_type": "stream",
     "text": [
      "https://www.everydaydiabeticrecipes.com/Cookie-Recipes/Brookies\n"
     ]
    },
    {
     "name": "stderr",
     "output_type": "stream",
     "text": [
      " 83%|████████▎ | 15/18 [01:59<00:23,  7.72s/it]"
     ]
    },
    {
     "name": "stdout",
     "output_type": "stream",
     "text": [
      "https://www.everydaydiabeticrecipes.com/Cookie-Recipes/Black-and-White-Cookies-EDR\n"
     ]
    },
    {
     "name": "stderr",
     "output_type": "stream",
     "text": [
      " 89%|████████▉ | 16/18 [02:07<00:15,  7.66s/it]"
     ]
    },
    {
     "name": "stdout",
     "output_type": "stream",
     "text": [
      "https://www.everydaydiabeticrecipes.com/Cookie-Recipes/3-Ingredient-Peanut-Butter-Cookies\n"
     ]
    },
    {
     "name": "stderr",
     "output_type": "stream",
     "text": [
      " 94%|█████████▍| 17/18 [02:14<00:07,  7.56s/it]"
     ]
    },
    {
     "name": "stdout",
     "output_type": "stream",
     "text": [
      "https://www.everydaydiabeticrecipes.com/Cookie-Recipes/Cinnamon-Roll-Cookies-204986\n"
     ]
    },
    {
     "name": "stderr",
     "output_type": "stream",
     "text": [
      "100%|██████████| 18/18 [02:20<00:00,  7.82s/it]\n"
     ]
    }
   ],
   "source": [
    "recipes_ingre_dict = dict()\n",
    "for l in tqdm(myset):\n",
    "    link = base + l\n",
    "    print(link)\n",
    "    driver = webdriver.Chrome()\n",
    "    driver.get(link)\n",
    "\n",
    "    content = driver.page_source\n",
    "    dom = html.fromstring(content)\n",
    "    ingre_list = dom.xpath('//div[@class=\"recipeIngredients\"]//li//text()')\n",
    "    recipes_ingre_dict[l.split('/')[-1]] = ingre_list"
   ]
  },
  {
   "cell_type": "code",
   "execution_count": 19,
   "metadata": {},
   "outputs": [],
   "source": [
    "write2Json(\n",
    "    recipes_ingre_dict=recipes_ingre_dict,\n",
    "    filename='everydaydiabetic.json'\n",
    ")"
   ]
  },
  {
   "cell_type": "markdown",
   "metadata": {},
   "source": [
    "## url: https://www.eatingwell.com/recipes/19967/health-condition/diabetic/desserts/cookies-bars-brownies/"
   ]
  },
  {
   "cell_type": "code",
   "execution_count": 20,
   "metadata": {},
   "outputs": [],
   "source": [
    "url = 'https://www.eatingwell.com/recipes/19967/health-condition/diabetic/desserts/cookies-bars-brownies/'\n",
    "driver = webdriver.Chrome()\n",
    "driver.get(url)\n",
    "\n",
    "content = driver.page_source\n",
    "soup = BeautifulSoup(content, 'html.parser')"
   ]
  },
  {
   "cell_type": "code",
   "execution_count": 29,
   "metadata": {},
   "outputs": [],
   "source": [
    "recipe_list = []\n",
    "for token in soup.find_all('a'):\n",
    "    if '/recipe/' in str(token):\n",
    "        recipe_list.append(token.get('href'))"
   ]
  },
  {
   "cell_type": "code",
   "execution_count": 40,
   "metadata": {},
   "outputs": [
    {
     "name": "stderr",
     "output_type": "stream",
     "text": [
      "  0%|          | 0/42 [00:00<?, ?it/s]"
     ]
    },
    {
     "name": "stdout",
     "output_type": "stream",
     "text": [
      "https://www.eatingwell.com/recipe/261075/no-sugar-added-vegan-oatmeal-cookies/\n"
     ]
    },
    {
     "name": "stderr",
     "output_type": "stream",
     "text": [
      "  2%|▏         | 1/42 [00:03<02:36,  3.81s/it]"
     ]
    },
    {
     "name": "stdout",
     "output_type": "stream",
     "text": [
      "https://www.eatingwell.com/recipe/277433/peanut-butter-chocolate-chip-cookies/\n"
     ]
    },
    {
     "name": "stderr",
     "output_type": "stream",
     "text": [
      "  5%|▍         | 2/42 [00:07<02:34,  3.87s/it]"
     ]
    },
    {
     "name": "stdout",
     "output_type": "stream",
     "text": [
      "https://www.eatingwell.com/recipe/260843/cinnamon-raisin-oatmeal-cookies/\n"
     ]
    },
    {
     "name": "stderr",
     "output_type": "stream",
     "text": [
      "  7%|▋         | 3/42 [00:11<02:35,  3.98s/it]"
     ]
    },
    {
     "name": "stdout",
     "output_type": "stream",
     "text": [
      "https://www.eatingwell.com/recipe/8012246/pumpkin-brownies/\n"
     ]
    },
    {
     "name": "stderr",
     "output_type": "stream",
     "text": [
      " 10%|▉         | 4/42 [00:15<02:30,  3.95s/it]"
     ]
    },
    {
     "name": "stdout",
     "output_type": "stream",
     "text": [
      "https://www.eatingwell.com/recipe/262604/flourless-chocolate-cookies/\n"
     ]
    },
    {
     "name": "stderr",
     "output_type": "stream",
     "text": [
      " 12%|█▏        | 5/42 [00:19<02:25,  3.93s/it]"
     ]
    },
    {
     "name": "stdout",
     "output_type": "stream",
     "text": [
      "https://www.eatingwell.com/recipe/248536/fresh-apple-squares/\n"
     ]
    },
    {
     "name": "stderr",
     "output_type": "stream",
     "text": [
      " 14%|█▍        | 6/42 [00:23<02:18,  3.85s/it]"
     ]
    },
    {
     "name": "stdout",
     "output_type": "stream",
     "text": [
      "https://www.eatingwell.com/recipe/8020539/cranberry-coconut-oatmeal-cookies/\n"
     ]
    },
    {
     "name": "stderr",
     "output_type": "stream",
     "text": [
      " 17%|█▋        | 7/42 [00:27<02:14,  3.84s/it]"
     ]
    },
    {
     "name": "stdout",
     "output_type": "stream",
     "text": [
      "https://www.eatingwell.com/recipe/8012213/pumpkin-snickerdoodles/\n"
     ]
    },
    {
     "name": "stderr",
     "output_type": "stream",
     "text": [
      " 19%|█▉        | 8/42 [00:30<02:09,  3.82s/it]"
     ]
    },
    {
     "name": "stdout",
     "output_type": "stream",
     "text": [
      "https://www.eatingwell.com/recipe/267765/no-bake-vegan-date-brownies/\n"
     ]
    },
    {
     "name": "stderr",
     "output_type": "stream",
     "text": [
      " 21%|██▏       | 9/42 [00:34<02:05,  3.80s/it]"
     ]
    },
    {
     "name": "stdout",
     "output_type": "stream",
     "text": [
      "https://www.eatingwell.com/recipe/248795/bevs-chocolate-chip-cookies/\n"
     ]
    },
    {
     "name": "stderr",
     "output_type": "stream",
     "text": [
      " 24%|██▍       | 10/42 [00:38<02:00,  3.75s/it]"
     ]
    },
    {
     "name": "stdout",
     "output_type": "stream",
     "text": [
      "https://www.eatingwell.com/recipe/269105/cranberry-crumble-bars/\n"
     ]
    },
    {
     "name": "stderr",
     "output_type": "stream",
     "text": [
      " 26%|██▌       | 11/42 [00:42<02:00,  3.88s/it]"
     ]
    },
    {
     "name": "stdout",
     "output_type": "stream",
     "text": [
      "https://www.eatingwell.com/recipe/251910/meringues/\n"
     ]
    },
    {
     "name": "stderr",
     "output_type": "stream",
     "text": [
      " 29%|██▊       | 12/42 [00:46<01:58,  3.96s/it]"
     ]
    },
    {
     "name": "stdout",
     "output_type": "stream",
     "text": [
      "https://www.eatingwell.com/recipe/262981/4-ingredient-peanut-butter-cookie/\n"
     ]
    },
    {
     "name": "stderr",
     "output_type": "stream",
     "text": [
      " 31%|███       | 13/42 [00:50<01:52,  3.88s/it]"
     ]
    },
    {
     "name": "stdout",
     "output_type": "stream",
     "text": [
      "https://www.eatingwell.com/recipe/251721/spiced-pumpkin-cookies/\n"
     ]
    },
    {
     "name": "stderr",
     "output_type": "stream",
     "text": [
      " 33%|███▎      | 14/42 [00:54<01:47,  3.84s/it]"
     ]
    },
    {
     "name": "stdout",
     "output_type": "stream",
     "text": [
      "https://www.eatingwell.com/recipe/248535/apple-oatmeal-cookies/\n"
     ]
    },
    {
     "name": "stderr",
     "output_type": "stream",
     "text": [
      " 36%|███▌      | 15/42 [00:57<01:42,  3.80s/it]"
     ]
    },
    {
     "name": "stdout",
     "output_type": "stream",
     "text": [
      "https://www.eatingwell.com/recipe/250694/lemon-squares/\n"
     ]
    },
    {
     "name": "stderr",
     "output_type": "stream",
     "text": [
      " 38%|███▊      | 16/42 [01:01<01:38,  3.78s/it]"
     ]
    },
    {
     "name": "stdout",
     "output_type": "stream",
     "text": [
      "https://www.eatingwell.com/recipe/7956574/lemon-raspberry-blondies/\n"
     ]
    },
    {
     "name": "stderr",
     "output_type": "stream",
     "text": [
      " 40%|████      | 17/42 [01:05<01:33,  3.75s/it]"
     ]
    },
    {
     "name": "stdout",
     "output_type": "stream",
     "text": [
      "https://www.eatingwell.com/recipe/261287/mini-gingerbread-house-cookies/\n"
     ]
    },
    {
     "name": "stderr",
     "output_type": "stream",
     "text": [
      " 43%|████▎     | 18/42 [01:08<01:29,  3.74s/it]"
     ]
    },
    {
     "name": "stdout",
     "output_type": "stream",
     "text": [
      "https://www.eatingwell.com/recipe/259620/soft-sugar-cookies/\n"
     ]
    },
    {
     "name": "stderr",
     "output_type": "stream",
     "text": [
      " 45%|████▌     | 19/42 [01:12<01:25,  3.72s/it]"
     ]
    },
    {
     "name": "stdout",
     "output_type": "stream",
     "text": [
      "https://www.eatingwell.com/recipe/262864/brownie-cookies/\n"
     ]
    },
    {
     "name": "stderr",
     "output_type": "stream",
     "text": [
      " 48%|████▊     | 20/42 [01:16<01:21,  3.71s/it]"
     ]
    },
    {
     "name": "stdout",
     "output_type": "stream",
     "text": [
      "https://www.eatingwell.com/recipe/263751/peanut-butter-swirl-chocolate-brownies/\n"
     ]
    },
    {
     "name": "stderr",
     "output_type": "stream",
     "text": [
      " 50%|█████     | 21/42 [01:19<01:17,  3.71s/it]"
     ]
    },
    {
     "name": "stdout",
     "output_type": "stream",
     "text": [
      "https://www.eatingwell.com/recipe/261423/no-bake-peanut-butter-cookies/\n"
     ]
    },
    {
     "name": "stderr",
     "output_type": "stream",
     "text": [
      " 52%|█████▏    | 22/42 [01:23<01:14,  3.72s/it]"
     ]
    },
    {
     "name": "stdout",
     "output_type": "stream",
     "text": [
      "https://www.eatingwell.com/recipe/251723/lemon-thins/\n"
     ]
    },
    {
     "name": "stderr",
     "output_type": "stream",
     "text": [
      " 55%|█████▍    | 23/42 [01:27<01:10,  3.71s/it]"
     ]
    },
    {
     "name": "stdout",
     "output_type": "stream",
     "text": [
      "https://www.eatingwell.com/recipe/252977/apple-cinnamon-fruit-bars/\n"
     ]
    },
    {
     "name": "stderr",
     "output_type": "stream",
     "text": [
      " 57%|█████▋    | 24/42 [01:31<01:08,  3.83s/it]"
     ]
    },
    {
     "name": "stdout",
     "output_type": "stream",
     "text": [
      "https://www.eatingwell.com/recipe/252976/strawberry-rhubarb-fruit-bars/\n"
     ]
    },
    {
     "name": "stderr",
     "output_type": "stream",
     "text": [
      " 60%|█████▉    | 25/42 [01:35<01:04,  3.81s/it]"
     ]
    },
    {
     "name": "stdout",
     "output_type": "stream",
     "text": [
      "https://www.eatingwell.com/recipe/8019463/pfeffernusse/\n"
     ]
    },
    {
     "name": "stderr",
     "output_type": "stream",
     "text": [
      " 62%|██████▏   | 26/42 [01:39<01:00,  3.78s/it]"
     ]
    },
    {
     "name": "stdout",
     "output_type": "stream",
     "text": [
      "https://www.eatingwell.com/recipe/268869/pumpkin-chocolate-chunk-cookies/\n"
     ]
    },
    {
     "name": "stderr",
     "output_type": "stream",
     "text": [
      " 64%|██████▍   | 27/42 [01:42<00:56,  3.79s/it]"
     ]
    },
    {
     "name": "stdout",
     "output_type": "stream",
     "text": [
      "https://www.eatingwell.com/recipe/7877709/cinnamon-icebox-cookies/\n"
     ]
    },
    {
     "name": "stderr",
     "output_type": "stream",
     "text": [
      " 67%|██████▋   | 28/42 [01:46<00:54,  3.87s/it]"
     ]
    },
    {
     "name": "stdout",
     "output_type": "stream",
     "text": [
      "https://www.eatingwell.com/recipe/8019423/espresso-walnut-marzipan-cookies/\n"
     ]
    },
    {
     "name": "stderr",
     "output_type": "stream",
     "text": [
      " 69%|██████▉   | 29/42 [01:50<00:49,  3.81s/it]"
     ]
    },
    {
     "name": "stdout",
     "output_type": "stream",
     "text": [
      "https://www.eatingwell.com/recipe/249989/chocolate-covered-brownie-bites/\n"
     ]
    },
    {
     "name": "stderr",
     "output_type": "stream",
     "text": [
      " 71%|███████▏  | 30/42 [01:54<00:45,  3.78s/it]"
     ]
    },
    {
     "name": "stdout",
     "output_type": "stream",
     "text": [
      "https://www.eatingwell.com/recipe/7962686/garri-cookies/\n"
     ]
    },
    {
     "name": "stderr",
     "output_type": "stream",
     "text": [
      " 74%|███████▍  | 31/42 [01:57<00:41,  3.75s/it]"
     ]
    },
    {
     "name": "stdout",
     "output_type": "stream",
     "text": [
      "https://www.eatingwell.com/recipe/270439/edible-chocolate-chip-cookie-dough-balls/\n"
     ]
    },
    {
     "name": "stderr",
     "output_type": "stream",
     "text": [
      " 76%|███████▌  | 32/42 [02:01<00:37,  3.75s/it]"
     ]
    },
    {
     "name": "stdout",
     "output_type": "stream",
     "text": [
      "https://www.eatingwell.com/recipe/7877675/chocolate-chunk-walnut-meringue-cookies/\n"
     ]
    },
    {
     "name": "stderr",
     "output_type": "stream",
     "text": [
      " 79%|███████▊  | 33/42 [02:05<00:33,  3.73s/it]"
     ]
    },
    {
     "name": "stdout",
     "output_type": "stream",
     "text": [
      "https://www.eatingwell.com/recipe/7897981/chocolate-chip-almond-butter-cookies/\n"
     ]
    },
    {
     "name": "stderr",
     "output_type": "stream",
     "text": [
      " 81%|████████  | 34/42 [02:09<00:29,  3.74s/it]"
     ]
    },
    {
     "name": "stdout",
     "output_type": "stream",
     "text": [
      "https://www.eatingwell.com/recipe/7877741/ginger-spice-crackles/\n"
     ]
    },
    {
     "name": "stderr",
     "output_type": "stream",
     "text": [
      " 83%|████████▎ | 35/42 [02:12<00:26,  3.76s/it]"
     ]
    },
    {
     "name": "stdout",
     "output_type": "stream",
     "text": [
      "https://www.eatingwell.com/recipe/249561/boot-tracks/\n"
     ]
    },
    {
     "name": "stderr",
     "output_type": "stream",
     "text": [
      " 86%|████████▌ | 36/42 [02:17<00:23,  3.90s/it]"
     ]
    },
    {
     "name": "stdout",
     "output_type": "stream",
     "text": [
      "https://www.eatingwell.com/recipe/8022739/air-fryer-chewy-oatmeal-raisin-tahini-cookies/\n"
     ]
    },
    {
     "name": "stderr",
     "output_type": "stream",
     "text": [
      " 88%|████████▊ | 37/42 [02:20<00:19,  3.84s/it]"
     ]
    },
    {
     "name": "stdout",
     "output_type": "stream",
     "text": [
      "https://www.eatingwell.com/recipe/259837/vanilla-candy-cane-peppermint-bars/\n"
     ]
    },
    {
     "name": "stderr",
     "output_type": "stream",
     "text": [
      " 90%|█████████ | 38/42 [02:24<00:15,  3.79s/it]"
     ]
    },
    {
     "name": "stdout",
     "output_type": "stream",
     "text": [
      "https://www.eatingwell.com/recipe/278570/venetian-spice-cookies-bicciolani/\n"
     ]
    },
    {
     "name": "stderr",
     "output_type": "stream",
     "text": [
      " 93%|█████████▎| 39/42 [02:28<00:11,  3.93s/it]"
     ]
    },
    {
     "name": "stdout",
     "output_type": "stream",
     "text": [
      "https://www.eatingwell.com/recipe/8016807/almond-confetti-mandel-bread/\n"
     ]
    },
    {
     "name": "stderr",
     "output_type": "stream",
     "text": [
      " 95%|█████████▌| 40/42 [02:32<00:07,  3.85s/it]"
     ]
    },
    {
     "name": "stdout",
     "output_type": "stream",
     "text": [
      "https://www.eatingwell.com/recipe/7877683/chocolate-coconut-thumbprints/\n"
     ]
    },
    {
     "name": "stderr",
     "output_type": "stream",
     "text": [
      " 98%|█████████▊| 41/42 [02:36<00:03,  3.84s/it]"
     ]
    },
    {
     "name": "stdout",
     "output_type": "stream",
     "text": [
      "https://www.eatingwell.com/recipe/8016792/lemon-poppy-seed-hamantaschen/\n"
     ]
    },
    {
     "name": "stderr",
     "output_type": "stream",
     "text": [
      "100%|██████████| 42/42 [02:40<00:00,  3.81s/it]\n"
     ]
    }
   ],
   "source": [
    "recipes_ingre_dict = dict()\n",
    "for link in tqdm(recipe_list):\n",
    "    print(link)\n",
    "    driver = webdriver.Chrome()\n",
    "    driver.get(link)\n",
    "\n",
    "    content = driver.page_source\n",
    "    dom = html.fromstring(content)\n",
    "    token_ingre_list = dom.xpath('//div[@class=\"comp mntl-lrs-ingredients mntl-block\"]//li//text()')\n",
    "\n",
    "    rebuild_ingre_list = []\n",
    "    current_ingredient = ''\n",
    "    for ingre in token_ingre_list:\n",
    "        if ingre != '\\n':\n",
    "            current_ingredient += str(ingre)\n",
    "        else:\n",
    "            if ',' in current_ingredient:\n",
    "                current_ingredient = current_ingredient.replace(',', '')\n",
    "            current_ingredient = current_ingredient.replace('  ', ' ')\n",
    "            rebuild_ingre_list.append(current_ingredient)\n",
    "            current_ingredient = ''\n",
    "\n",
    "    for ingre in rebuild_ingre_list:\n",
    "        if ingre == '':\n",
    "            rebuild_ingre_list.remove(ingre)\n",
    "    \n",
    "    recipes_ingre_dict[link.split('/')[-2]] = rebuild_ingre_list"
   ]
  },
  {
   "cell_type": "code",
   "execution_count": 41,
   "metadata": {},
   "outputs": [],
   "source": [
    "write2Json(\n",
    "    recipes_ingre_dict=recipes_ingre_dict,\n",
    "    filename='eatingwell.json'\n",
    ")"
   ]
  },
  {
   "cell_type": "markdown",
   "metadata": {},
   "source": [
    "## Preprocessing"
   ]
  },
  {
   "cell_type": "code",
   "execution_count": 3,
   "metadata": {},
   "outputs": [],
   "source": [
    "f = open('everydaydiabetic.json')\n",
    "data = json.load(f)\n",
    "f.close()"
   ]
  },
  {
   "cell_type": "code",
   "execution_count": 29,
   "metadata": {},
   "outputs": [],
   "source": [
    "def has_numbers(inputString):\n",
    "    return bool(re.search(r'\\d', inputString))\n",
    "\n",
    "def format_recipe(current_list):\n",
    "    output_list = []\n",
    "    for i in range(len(current_list)):\n",
    "        output_list.append(current_list[i].strip())\n",
    "    # print(output_list)\n",
    "\n",
    "    output_final = []\n",
    "    current_ingr = ''\n",
    "    i=0\n",
    "    while i<len(output_list):\n",
    "        if output_list[i].isnumeric():\n",
    "            current_ingr += output_list[i] + ' '\n",
    "        elif output_list[i] == '/':\n",
    "            current_ingr += output_list[i] + ' '\n",
    "        elif isinstance(output_list[i],str) and has_numbers(output_list[i]):\n",
    "            output_final.append(current_ingr)\n",
    "            output_final.append(output_list[i])\n",
    "            current_ingr = ''\n",
    "        elif isinstance(output_list[i],str) and not has_numbers(output_list[i]):\n",
    "            current_ingr += output_list[i] \n",
    "            output_final.append(current_ingr)\n",
    "            current_ingr = ''\n",
    "        else:\n",
    "            print('there is a problem')\n",
    "        i+=1\n",
    "\n",
    "    # remove empty entries in list\n",
    "    output_final = [token for token in output_final if token]\n",
    "\n",
    "    # remove unnecessary spaces\n",
    "    output_final = [token.replace(' / ', '/') for token in output_final]\n",
    "\n",
    "    return output_final\n",
    "\n",
    "dict_keys = list(data.keys())\n",
    "backup_dict = dict()\n",
    "for key in dict_keys:\n",
    "    backup_dict[key] = format_recipe(data[key]) "
   ]
  },
  {
   "cell_type": "code",
   "execution_count": 30,
   "metadata": {},
   "outputs": [],
   "source": [
    "write2Json(\n",
    "    recipes_ingre_dict=backup_dict,\n",
    "    filename='everydaydiabetic_new.json'\n",
    ")"
   ]
  }
 ],
 "metadata": {
  "kernelspec": {
   "display_name": "Python 3",
   "language": "python",
   "name": "python3"
  },
  "language_info": {
   "codemirror_mode": {
    "name": "ipython",
    "version": 3
   },
   "file_extension": ".py",
   "mimetype": "text/x-python",
   "name": "python",
   "nbconvert_exporter": "python",
   "pygments_lexer": "ipython3",
   "version": "3.11.4"
  }
 },
 "nbformat": 4,
 "nbformat_minor": 2
}
